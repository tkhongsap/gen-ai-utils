{
 "cells": [
  {
   "cell_type": "code",
   "execution_count": null,
   "metadata": {},
   "outputs": [],
   "source": [
    "import os\n",
    "import requests\n",
    "# import openai\n",
    "from dotenv import load_dotenv\n",
    "\n",
    "\n",
    "# Load environment variables from .env file\n",
    "load_dotenv()\n",
    "\n",
    "# Initialize OpenAI API client with API key from environment variables\n",
    "openai_api_key = os.getenv('OPENAI_API_KEY')\n",
    "\n",
    "headers = {\n",
    "    \"Authorization\": f\"Bearer {openai_api_key}\"\n",
    "}\n",
    "\n",
    "def list_files(purpose=None):\n",
    "    try:\n",
    "        url = \"https://api.openai.com/v1/files\"\n",
    "        if purpose:\n",
    "            url += f\"?purpose={purpose}\"\n",
    "        \n",
    "        response = requests.get(url, headers=headers)\n",
    "        response.raise_for_status()  # Raises an HTTPError if the HTTP request returned an unsuccessful status code\n",
    "\n",
    "        files = response.json()[\"data\"]\n",
    "        return files\n",
    "\n",
    "    except Exception as e:\n",
    "        print(f\"An error occurred while listing the files: {str(e)}\")\n",
    "        return []\n",
    "\n",
    "def delete_file(file_id):\n",
    "    try:\n",
    "        url = f\"https://api.openai.com/v1/files/{file_id}\"\n",
    "        response = requests.delete(url, headers=headers)\n",
    "        response.raise_for_status()\n",
    "\n",
    "        # Check if the deletion was successful\n",
    "        if response.json().get(\"deleted\", False):\n",
    "            print(f\"File with ID {file_id} was successfully deleted.\")\n",
    "        else:\n",
    "            print(f\"Failed to delete the file with ID {file_id}.\")\n",
    "\n",
    "    except Exception as e:\n",
    "        print(f\"An error occurred while trying to delete the file: {str(e)}\")\n",
    "\n",
    "# Example usage:\n",
    "# 1. List files associated with a specific purpose (e.g., \"vector-store\" if you have that as a purpose)\n",
    "files = list_files()\n",
    "\n",
    "# 2. Perform deletion operation on each file\n",
    "for file in files:\n",
    "    # Add logic here if you want to filter by filename, creation date, etc.\n",
    "    print(f\"Deleting file: {file['filename']} (ID: {file['id']})\")\n",
    "    delete_file(file['id'])\n"
   ]
  },
  {
   "cell_type": "code",
   "execution_count": null,
   "metadata": {},
   "outputs": [],
   "source": []
  }
 ],
 "metadata": {
  "kernelspec": {
   "display_name": "env_rag",
   "language": "python",
   "name": "python3"
  },
  "language_info": {
   "codemirror_mode": {
    "name": "ipython",
    "version": 3
   },
   "file_extension": ".py",
   "mimetype": "text/x-python",
   "name": "python",
   "nbconvert_exporter": "python",
   "pygments_lexer": "ipython3",
   "version": "3.12.4"
  }
 },
 "nbformat": 4,
 "nbformat_minor": 2
}
